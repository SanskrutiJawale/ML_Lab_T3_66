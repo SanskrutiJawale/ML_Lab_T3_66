{
 "cells": [
  {
   "cell_type": "code",
   "execution_count": 3,
   "metadata": {},
   "outputs": [],
   "source": [
    "'''\n",
    "Name:-Sanskruti Vinayak Jawale\n",
    "Roll No:-66\n",
    "Batch:-T3\n",
    "Assignment No:-1 (EDA report generation and Data cleaning)\n",
    "'''\n",
    "import pandas as pd\n",
    "data = pd.read_csv(\"dataset.csv\").convert_dtypes()"
   ]
  },
  {
   "cell_type": "code",
   "execution_count": 4,
   "metadata": {},
   "outputs": [
    {
     "data": {
      "text/html": [
       "<div>\n",
       "<style scoped>\n",
       "    .dataframe tbody tr th:only-of-type {\n",
       "        vertical-align: middle;\n",
       "    }\n",
       "\n",
       "    .dataframe tbody tr th {\n",
       "        vertical-align: top;\n",
       "    }\n",
       "\n",
       "    .dataframe thead th {\n",
       "        text-align: right;\n",
       "    }\n",
       "</style>\n",
       "<table border=\"1\" class=\"dataframe\">\n",
       "  <thead>\n",
       "    <tr style=\"text-align: right;\">\n",
       "      <th></th>\n",
       "      <th>Year</th>\n",
       "      <th>Economy</th>\n",
       "      <th>Economy Label</th>\n",
       "      <th>Absolute value in thousands</th>\n",
       "      <th>Absolute value in thousands Missing value</th>\n",
       "      <th>Urban population as percentage of total population</th>\n",
       "      <th>Urban population as percentage of total population Missing value</th>\n",
       "    </tr>\n",
       "  </thead>\n",
       "  <tbody>\n",
       "    <tr>\n",
       "      <th>0</th>\n",
       "      <td>1950</td>\n",
       "      <td>1</td>\n",
       "      <td>Individual economies</td>\n",
       "      <td>NOT APPLICABLE</td>\n",
       "      <td>NOT APPLICABLE</td>\n",
       "      <td>NOT APPLICABLE</td>\n",
       "      <td>NOT APPLICABLE</td>\n",
       "    </tr>\n",
       "    <tr>\n",
       "      <th>1</th>\n",
       "      <td>1950</td>\n",
       "      <td>4</td>\n",
       "      <td>Afghanistan</td>\n",
       "      <td>7480.461</td>\n",
       "      <td>0</td>\n",
       "      <td>6</td>\n",
       "      <td>94</td>\n",
       "    </tr>\n",
       "    <tr>\n",
       "      <th>2</th>\n",
       "      <td>1950</td>\n",
       "      <td>8</td>\n",
       "      <td>Albania</td>\n",
       "      <td>1252.582</td>\n",
       "      <td>0</td>\n",
       "      <td>20.52805</td>\n",
       "      <td>79.47195</td>\n",
       "    </tr>\n",
       "    <tr>\n",
       "      <th>3</th>\n",
       "      <td>1950</td>\n",
       "      <td>12</td>\n",
       "      <td>Algeria</td>\n",
       "      <td>9019.866</td>\n",
       "      <td>0</td>\n",
       "      <td>22.2132</td>\n",
       "      <td>77.7868</td>\n",
       "    </tr>\n",
       "    <tr>\n",
       "      <th>4</th>\n",
       "      <td>1950</td>\n",
       "      <td>16</td>\n",
       "      <td>American Samoa</td>\n",
       "      <td>19.032</td>\n",
       "      <td>0</td>\n",
       "      <td>61.76874</td>\n",
       "      <td>38.23126</td>\n",
       "    </tr>\n",
       "  </tbody>\n",
       "</table>\n",
       "</div>"
      ],
      "text/plain": [
       "   Year  Economy         Economy Label Absolute value in thousands  \\\n",
       "0  1950        1  Individual economies              NOT APPLICABLE   \n",
       "1  1950        4           Afghanistan                    7480.461   \n",
       "2  1950        8               Albania                    1252.582   \n",
       "3  1950       12               Algeria                    9019.866   \n",
       "4  1950       16        American Samoa                      19.032   \n",
       "\n",
       "  Absolute value in thousands Missing value  \\\n",
       "0                            NOT APPLICABLE   \n",
       "1                                         0   \n",
       "2                                         0   \n",
       "3                                         0   \n",
       "4                                         0   \n",
       "\n",
       "  Urban population as percentage of total population  \\\n",
       "0                                     NOT APPLICABLE   \n",
       "1                                                  6   \n",
       "2                                           20.52805   \n",
       "3                                            22.2132   \n",
       "4                                           61.76874   \n",
       "\n",
       "  Urban population as percentage of total population Missing value  \n",
       "0                                     NOT APPLICABLE                \n",
       "1                                                 94                \n",
       "2                                           79.47195                \n",
       "3                                            77.7868                \n",
       "4                                           38.23126                "
      ]
     },
     "execution_count": 4,
     "metadata": {},
     "output_type": "execute_result"
    }
   ],
   "source": [
    "data.head()"
   ]
  },
  {
   "cell_type": "code",
   "execution_count": 5,
   "metadata": {},
   "outputs": [
    {
     "data": {
      "text/plain": [
       "Index(['Year', 'Economy', 'Economy Label', 'Absolute value in thousands',\n",
       "       'Absolute value in thousands Missing value',\n",
       "       'Urban population as percentage of total population',\n",
       "       'Urban population as percentage of total population Missing value'],\n",
       "      dtype='object')"
      ]
     },
     "execution_count": 5,
     "metadata": {},
     "output_type": "execute_result"
    }
   ],
   "source": [
    "data.columns\n"
   ]
  },
  {
   "cell_type": "code",
   "execution_count": 6,
   "metadata": {},
   "outputs": [
    {
     "name": "stdout",
     "output_type": "stream",
     "text": [
      "<class 'pandas.core.frame.DataFrame'>\n",
      "RangeIndex: 31571 entries, 0 to 31570\n",
      "Data columns (total 7 columns):\n",
      " #   Column                                                            Non-Null Count  Dtype \n",
      "---  ------                                                            --------------  ----- \n",
      " 0   Year                                                              31571 non-null  Int64 \n",
      " 1   Economy                                                           31571 non-null  Int64 \n",
      " 2   Economy Label                                                     31571 non-null  string\n",
      " 3   Absolute value in thousands                                       31571 non-null  string\n",
      " 4   Absolute value in thousands Missing value                         31571 non-null  string\n",
      " 5   Urban population as percentage of total population                31571 non-null  string\n",
      " 6   Urban population as percentage of total population Missing value  31571 non-null  string\n",
      "dtypes: Int64(2), string(5)\n",
      "memory usage: 1.7 MB\n"
     ]
    }
   ],
   "source": [
    "data.info()"
   ]
  },
  {
   "cell_type": "code",
   "execution_count": 7,
   "metadata": {},
   "outputs": [
    {
     "data": {
      "text/html": [
       "<div>\n",
       "<style scoped>\n",
       "    .dataframe tbody tr th:only-of-type {\n",
       "        vertical-align: middle;\n",
       "    }\n",
       "\n",
       "    .dataframe tbody tr th {\n",
       "        vertical-align: top;\n",
       "    }\n",
       "\n",
       "    .dataframe thead th {\n",
       "        text-align: right;\n",
       "    }\n",
       "</style>\n",
       "<table border=\"1\" class=\"dataframe\">\n",
       "  <thead>\n",
       "    <tr style=\"text-align: right;\">\n",
       "      <th></th>\n",
       "      <th>Year</th>\n",
       "      <th>Economy</th>\n",
       "      <th>Economy Label</th>\n",
       "      <th>Absolute value in thousands</th>\n",
       "      <th>Absolute value in thousands Missing value</th>\n",
       "      <th>Urban population as percentage of total population</th>\n",
       "      <th>Urban population as percentage of total population Missing value</th>\n",
       "    </tr>\n",
       "  </thead>\n",
       "  <tbody>\n",
       "  </tbody>\n",
       "</table>\n",
       "</div>"
      ],
      "text/plain": [
       "Empty DataFrame\n",
       "Columns: [Year, Economy, Economy Label, Absolute value in thousands, Absolute value in thousands Missing value, Urban population as percentage of total population, Urban population as percentage of total population Missing value]\n",
       "Index: []"
      ]
     },
     "execution_count": 7,
     "metadata": {},
     "output_type": "execute_result"
    }
   ],
   "source": [
    "data.loc[data.isna().any(axis=\"columns\")]"
   ]
  },
  {
   "cell_type": "code",
   "execution_count": 8,
   "metadata": {},
   "outputs": [
    {
     "data": {
      "text/plain": [
       "1       101\n",
       "275     101\n",
       "756     101\n",
       "438     101\n",
       "757     101\n",
       "       ... \n",
       "348     101\n",
       "340     101\n",
       "336     101\n",
       "332     101\n",
       "5310     59\n",
       "Name: Economy, Length: 313, dtype: Int64"
      ]
     },
     "execution_count": 8,
     "metadata": {},
     "output_type": "execute_result"
    }
   ],
   "source": [
    "#count of valuse\n",
    "data[\"Economy\"].value_counts()"
   ]
  },
  {
   "cell_type": "code",
   "execution_count": 9,
   "metadata": {},
   "outputs": [
    {
     "data": {
      "text/plain": [
       "Individual economies                                 101\n",
       "Argentina                                            101\n",
       "Algeria                                              101\n",
       "American Samoa                                       101\n",
       "Andorra                                              101\n",
       "                                                    ... \n",
       "European Union (2020 …)                              101\n",
       "G20 (Group of Twenty)                                101\n",
       "G-77 (Group of 77)                                   101\n",
       "OECD (Organisation for Economic Cooperation an...    101\n",
       "Central Asia                                          59\n",
       "Name: Economy Label, Length: 313, dtype: Int64"
      ]
     },
     "execution_count": 9,
     "metadata": {},
     "output_type": "execute_result"
    }
   ],
   "source": [
    "data[\"Economy Label\"].value_counts()"
   ]
  },
  {
   "cell_type": "code",
   "execution_count": 10,
   "metadata": {},
   "outputs": [
    {
     "data": {
      "text/html": [
       "<div>\n",
       "<style scoped>\n",
       "    .dataframe tbody tr th:only-of-type {\n",
       "        vertical-align: middle;\n",
       "    }\n",
       "\n",
       "    .dataframe tbody tr th {\n",
       "        vertical-align: top;\n",
       "    }\n",
       "\n",
       "    .dataframe thead th {\n",
       "        text-align: right;\n",
       "    }\n",
       "</style>\n",
       "<table border=\"1\" class=\"dataframe\">\n",
       "  <thead>\n",
       "    <tr style=\"text-align: right;\">\n",
       "      <th></th>\n",
       "      <th>Economy Label</th>\n",
       "      <th>Absolute value in thousands</th>\n",
       "    </tr>\n",
       "  </thead>\n",
       "  <tbody>\n",
       "    <tr>\n",
       "      <th>count</th>\n",
       "      <td>31571</td>\n",
       "      <td>31571</td>\n",
       "    </tr>\n",
       "    <tr>\n",
       "      <th>unique</th>\n",
       "      <td>313</td>\n",
       "      <td>28488</td>\n",
       "    </tr>\n",
       "    <tr>\n",
       "      <th>top</th>\n",
       "      <td>Individual economies</td>\n",
       "      <td>NOT APPLICABLE</td>\n",
       "    </tr>\n",
       "    <tr>\n",
       "      <th>freq</th>\n",
       "      <td>101</td>\n",
       "      <td>2545</td>\n",
       "    </tr>\n",
       "  </tbody>\n",
       "</table>\n",
       "</div>"
      ],
      "text/plain": [
       "               Economy Label Absolute value in thousands\n",
       "count                  31571                       31571\n",
       "unique                   313                       28488\n",
       "top     Individual economies              NOT APPLICABLE\n",
       "freq                     101                        2545"
      ]
     },
     "execution_count": 10,
     "metadata": {},
     "output_type": "execute_result"
    }
   ],
   "source": [
    "#description of values\n",
    "data[[\"Economy Label\", \"Absolute value in thousands\"]].describe()"
   ]
  },
  {
   "cell_type": "code",
   "execution_count": 11,
   "metadata": {},
   "outputs": [
    {
     "data": {
      "text/html": [
       "<div>\n",
       "<style scoped>\n",
       "    .dataframe tbody tr th:only-of-type {\n",
       "        vertical-align: middle;\n",
       "    }\n",
       "\n",
       "    .dataframe tbody tr th {\n",
       "        vertical-align: top;\n",
       "    }\n",
       "\n",
       "    .dataframe thead th {\n",
       "        text-align: right;\n",
       "    }\n",
       "</style>\n",
       "<table border=\"1\" class=\"dataframe\">\n",
       "  <thead>\n",
       "    <tr style=\"text-align: right;\">\n",
       "      <th></th>\n",
       "      <th>Year</th>\n",
       "      <th>Economy</th>\n",
       "      <th>Economy Label</th>\n",
       "      <th>Absolute value in thousands</th>\n",
       "      <th>Absolute value in thousands Missing value</th>\n",
       "      <th>Urban population as percentage of total population</th>\n",
       "      <th>Urban population as percentage of total population Missing value</th>\n",
       "    </tr>\n",
       "  </thead>\n",
       "  <tbody>\n",
       "  </tbody>\n",
       "</table>\n",
       "</div>"
      ],
      "text/plain": [
       "Empty DataFrame\n",
       "Columns: [Year, Economy, Economy Label, Absolute value in thousands, Absolute value in thousands Missing value, Urban population as percentage of total population, Urban population as percentage of total population Missing value]\n",
       "Index: []"
      ]
     },
     "execution_count": 11,
     "metadata": {},
     "output_type": "execute_result"
    }
   ],
   "source": [
    "#Removing Duplicate Data\n",
    "data.loc[data.duplicated(keep=False)]"
   ]
  },
  {
   "cell_type": "code",
   "execution_count": 12,
   "metadata": {},
   "outputs": [
    {
     "data": {
      "text/html": [
       "<div>\n",
       "<style scoped>\n",
       "    .dataframe tbody tr th:only-of-type {\n",
       "        vertical-align: middle;\n",
       "    }\n",
       "\n",
       "    .dataframe tbody tr th {\n",
       "        vertical-align: top;\n",
       "    }\n",
       "\n",
       "    .dataframe thead th {\n",
       "        text-align: right;\n",
       "    }\n",
       "</style>\n",
       "<table border=\"1\" class=\"dataframe\">\n",
       "  <thead>\n",
       "    <tr style=\"text-align: right;\">\n",
       "      <th></th>\n",
       "      <th>Year</th>\n",
       "      <th>Economy</th>\n",
       "      <th>Economy Label</th>\n",
       "      <th>Absolute value in thousands</th>\n",
       "      <th>Absolute value in thousands Missing value</th>\n",
       "      <th>Urban population as percentage of total population</th>\n",
       "      <th>Urban population as percentage of total population Missing value</th>\n",
       "    </tr>\n",
       "  </thead>\n",
       "  <tbody>\n",
       "  </tbody>\n",
       "</table>\n",
       "</div>"
      ],
      "text/plain": [
       "Empty DataFrame\n",
       "Columns: [Year, Economy, Economy Label, Absolute value in thousands, Absolute value in thousands Missing value, Urban population as percentage of total population, Urban population as percentage of total population Missing value]\n",
       "Index: []"
      ]
     },
     "execution_count": 12,
     "metadata": {},
     "output_type": "execute_result"
    }
   ],
   "source": [
    "data.loc[data.isna().any(axis=\"columns\")]"
   ]
  },
  {
   "cell_type": "code",
   "execution_count": 13,
   "metadata": {},
   "outputs": [
    {
     "data": {
      "text/html": [
       "<div>\n",
       "<style scoped>\n",
       "    .dataframe tbody tr th:only-of-type {\n",
       "        vertical-align: middle;\n",
       "    }\n",
       "\n",
       "    .dataframe tbody tr th {\n",
       "        vertical-align: top;\n",
       "    }\n",
       "\n",
       "    .dataframe thead th {\n",
       "        text-align: right;\n",
       "    }\n",
       "</style>\n",
       "<table border=\"1\" class=\"dataframe\">\n",
       "  <thead>\n",
       "    <tr style=\"text-align: right;\">\n",
       "      <th></th>\n",
       "      <th>Absolute value in thousands Missing value</th>\n",
       "      <th>Urban population as percentage of total population</th>\n",
       "    </tr>\n",
       "  </thead>\n",
       "  <tbody>\n",
       "    <tr>\n",
       "      <th>count</th>\n",
       "      <td>31571</td>\n",
       "      <td>31571</td>\n",
       "    </tr>\n",
       "    <tr>\n",
       "      <th>unique</th>\n",
       "      <td>2</td>\n",
       "      <td>27191</td>\n",
       "    </tr>\n",
       "    <tr>\n",
       "      <th>top</th>\n",
       "      <td>0</td>\n",
       "      <td>NOT APPLICABLE</td>\n",
       "    </tr>\n",
       "    <tr>\n",
       "      <th>freq</th>\n",
       "      <td>29026</td>\n",
       "      <td>2545</td>\n",
       "    </tr>\n",
       "  </tbody>\n",
       "</table>\n",
       "</div>"
      ],
      "text/plain": [
       "       Absolute value in thousands Missing value  \\\n",
       "count                                      31571   \n",
       "unique                                         2   \n",
       "top                                            0   \n",
       "freq                                       29026   \n",
       "\n",
       "       Urban population as percentage of total population  \n",
       "count                                               31571  \n",
       "unique                                              27191  \n",
       "top                                        NOT APPLICABLE  \n",
       "freq                                                 2545  "
      ]
     },
     "execution_count": 13,
     "metadata": {},
     "output_type": "execute_result"
    }
   ],
   "source": [
    "data[[\"Absolute value in thousands Missing value\", \"Urban population as percentage of total population\"]].describe()"
   ]
  },
  {
   "cell_type": "code",
   "execution_count": null,
   "metadata": {},
   "outputs": [
    {
     "ename": "",
     "evalue": "",
     "output_type": "error",
     "traceback": [
      "\u001b[1;31mRunning cells with 'c:\\Program Files\\Python312\\python.exe' requires the ipykernel package.\n",
      "\u001b[1;31mRun the following command to install 'ipykernel' into the Python environment. \n",
      "\u001b[1;31mCommand: '\"c:/Program Files/Python312/python.exe\" -m pip install ipykernel -U --user --force-reinstall'"
     ]
    }
   ],
   "source": [
    "In [36]: data.to_csv(\"dataset.csv\", index=False)"
   ]
  },
  {
   "cell_type": "code",
   "execution_count": 15,
   "metadata": {},
   "outputs": [
    {
     "data": {
      "text/html": [
       "<div>\n",
       "<style scoped>\n",
       "    .dataframe tbody tr th:only-of-type {\n",
       "        vertical-align: middle;\n",
       "    }\n",
       "\n",
       "    .dataframe tbody tr th {\n",
       "        vertical-align: top;\n",
       "    }\n",
       "\n",
       "    .dataframe thead th {\n",
       "        text-align: right;\n",
       "    }\n",
       "</style>\n",
       "<table border=\"1\" class=\"dataframe\">\n",
       "  <thead>\n",
       "    <tr style=\"text-align: right;\">\n",
       "      <th></th>\n",
       "      <th>Year</th>\n",
       "      <th>Economy</th>\n",
       "      <th>Economy Label</th>\n",
       "      <th>Absolute value in thousands</th>\n",
       "      <th>Absolute value in thousands Missing value</th>\n",
       "      <th>Urban population as percentage of total population</th>\n",
       "      <th>Urban population as percentage of total population Missing value</th>\n",
       "    </tr>\n",
       "  </thead>\n",
       "  <tbody>\n",
       "    <tr>\n",
       "      <th>0</th>\n",
       "      <td>1950</td>\n",
       "      <td>1</td>\n",
       "      <td>Individual economies</td>\n",
       "      <td>NOT APPLICABLE</td>\n",
       "      <td>NOT APPLICABLE</td>\n",
       "      <td>NOT APPLICABLE</td>\n",
       "      <td>NOT APPLICABLE</td>\n",
       "    </tr>\n",
       "    <tr>\n",
       "      <th>1</th>\n",
       "      <td>1950</td>\n",
       "      <td>4</td>\n",
       "      <td>Afghanistan</td>\n",
       "      <td>7480.461</td>\n",
       "      <td>0</td>\n",
       "      <td>6</td>\n",
       "      <td>94</td>\n",
       "    </tr>\n",
       "    <tr>\n",
       "      <th>2</th>\n",
       "      <td>1950</td>\n",
       "      <td>8</td>\n",
       "      <td>Albania</td>\n",
       "      <td>1252.582</td>\n",
       "      <td>0</td>\n",
       "      <td>20.52805</td>\n",
       "      <td>79.47195</td>\n",
       "    </tr>\n",
       "    <tr>\n",
       "      <th>3</th>\n",
       "      <td>1950</td>\n",
       "      <td>12</td>\n",
       "      <td>Algeria</td>\n",
       "      <td>9019.866</td>\n",
       "      <td>0</td>\n",
       "      <td>22.2132</td>\n",
       "      <td>77.7868</td>\n",
       "    </tr>\n",
       "    <tr>\n",
       "      <th>4</th>\n",
       "      <td>1950</td>\n",
       "      <td>16</td>\n",
       "      <td>American Samoa</td>\n",
       "      <td>19.032</td>\n",
       "      <td>0</td>\n",
       "      <td>61.76874</td>\n",
       "      <td>38.23126</td>\n",
       "    </tr>\n",
       "  </tbody>\n",
       "</table>\n",
       "</div>"
      ],
      "text/plain": [
       "   Year  Economy         Economy Label Absolute value in thousands  \\\n",
       "0  1950        1  Individual economies              NOT APPLICABLE   \n",
       "1  1950        4           Afghanistan                    7480.461   \n",
       "2  1950        8               Albania                    1252.582   \n",
       "3  1950       12               Algeria                    9019.866   \n",
       "4  1950       16        American Samoa                      19.032   \n",
       "\n",
       "  Absolute value in thousands Missing value  \\\n",
       "0                            NOT APPLICABLE   \n",
       "1                                         0   \n",
       "2                                         0   \n",
       "3                                         0   \n",
       "4                                         0   \n",
       "\n",
       "  Urban population as percentage of total population  \\\n",
       "0                                     NOT APPLICABLE   \n",
       "1                                                  6   \n",
       "2                                           20.52805   \n",
       "3                                            22.2132   \n",
       "4                                           61.76874   \n",
       "\n",
       "  Urban population as percentage of total population Missing value  \n",
       "0                                     NOT APPLICABLE                \n",
       "1                                                 94                \n",
       "2                                           79.47195                \n",
       "3                                            77.7868                \n",
       "4                                           38.23126                "
      ]
     },
     "execution_count": 15,
     "metadata": {},
     "output_type": "execute_result"
    }
   ],
   "source": [
    "data.head()"
   ]
  },
  {
   "cell_type": "code",
   "execution_count": 16,
   "metadata": {},
   "outputs": [],
   "source": [
    "import pandas as pd\n",
    "import numpy as np"
   ]
  },
  {
   "cell_type": "code",
   "execution_count": 17,
   "metadata": {},
   "outputs": [
    {
     "data": {
      "text/html": [
       "<div>\n",
       "<style scoped>\n",
       "    .dataframe tbody tr th:only-of-type {\n",
       "        vertical-align: middle;\n",
       "    }\n",
       "\n",
       "    .dataframe tbody tr th {\n",
       "        vertical-align: top;\n",
       "    }\n",
       "\n",
       "    .dataframe thead th {\n",
       "        text-align: right;\n",
       "    }\n",
       "</style>\n",
       "<table border=\"1\" class=\"dataframe\">\n",
       "  <thead>\n",
       "    <tr style=\"text-align: right;\">\n",
       "      <th></th>\n",
       "      <th>Year</th>\n",
       "      <th>Economy</th>\n",
       "      <th>Economy Label</th>\n",
       "      <th>Absolute value in thousands</th>\n",
       "      <th>Absolute value in thousands Missing value</th>\n",
       "      <th>Urban population as percentage of total population</th>\n",
       "      <th>Urban population as percentage of total population Missing value</th>\n",
       "    </tr>\n",
       "  </thead>\n",
       "  <tbody>\n",
       "    <tr>\n",
       "      <th>0</th>\n",
       "      <td>1950</td>\n",
       "      <td>1</td>\n",
       "      <td>Individual economies</td>\n",
       "      <td>NOT APPLICABLE</td>\n",
       "      <td>NOT APPLICABLE</td>\n",
       "      <td>NOT APPLICABLE</td>\n",
       "      <td>NOT APPLICABLE</td>\n",
       "    </tr>\n",
       "    <tr>\n",
       "      <th>1</th>\n",
       "      <td>1950</td>\n",
       "      <td>4</td>\n",
       "      <td>Afghanistan</td>\n",
       "      <td>7480.461</td>\n",
       "      <td>0</td>\n",
       "      <td>6</td>\n",
       "      <td>94</td>\n",
       "    </tr>\n",
       "    <tr>\n",
       "      <th>2</th>\n",
       "      <td>1950</td>\n",
       "      <td>8</td>\n",
       "      <td>Albania</td>\n",
       "      <td>1252.582</td>\n",
       "      <td>0</td>\n",
       "      <td>20.52805</td>\n",
       "      <td>79.47195</td>\n",
       "    </tr>\n",
       "    <tr>\n",
       "      <th>3</th>\n",
       "      <td>1950</td>\n",
       "      <td>12</td>\n",
       "      <td>Algeria</td>\n",
       "      <td>9019.866</td>\n",
       "      <td>0</td>\n",
       "      <td>22.2132</td>\n",
       "      <td>77.7868</td>\n",
       "    </tr>\n",
       "    <tr>\n",
       "      <th>4</th>\n",
       "      <td>1950</td>\n",
       "      <td>16</td>\n",
       "      <td>American Samoa</td>\n",
       "      <td>19.032</td>\n",
       "      <td>0</td>\n",
       "      <td>61.76874</td>\n",
       "      <td>38.23126</td>\n",
       "    </tr>\n",
       "  </tbody>\n",
       "</table>\n",
       "</div>"
      ],
      "text/plain": [
       "   Year  Economy         Economy Label Absolute value in thousands  \\\n",
       "0  1950        1  Individual economies              NOT APPLICABLE   \n",
       "1  1950        4           Afghanistan                    7480.461   \n",
       "2  1950        8               Albania                    1252.582   \n",
       "3  1950       12               Algeria                    9019.866   \n",
       "4  1950       16        American Samoa                      19.032   \n",
       "\n",
       "  Absolute value in thousands Missing value  \\\n",
       "0                            NOT APPLICABLE   \n",
       "1                                         0   \n",
       "2                                         0   \n",
       "3                                         0   \n",
       "4                                         0   \n",
       "\n",
       "  Urban population as percentage of total population  \\\n",
       "0                                     NOT APPLICABLE   \n",
       "1                                                  6   \n",
       "2                                           20.52805   \n",
       "3                                            22.2132   \n",
       "4                                           61.76874   \n",
       "\n",
       "  Urban population as percentage of total population Missing value  \n",
       "0                                     NOT APPLICABLE                \n",
       "1                                                 94                \n",
       "2                                           79.47195                \n",
       "3                                            77.7868                \n",
       "4                                           38.23126                "
      ]
     },
     "execution_count": 17,
     "metadata": {},
     "output_type": "execute_result"
    }
   ],
   "source": [
    "df = pd.read_csv('dataset.csv')\n",
    "df.head()"
   ]
  },
  {
   "cell_type": "code",
   "execution_count": 18,
   "metadata": {},
   "outputs": [
    {
     "data": {
      "text/plain": [
       "False"
      ]
     },
     "execution_count": 18,
     "metadata": {},
     "output_type": "execute_result"
    }
   ],
   "source": [
    "#unique values\n",
    "df['Absolute value in thousands'].is_unique"
   ]
  },
  {
   "cell_type": "code",
   "execution_count": 19,
   "metadata": {},
   "outputs": [
    {
     "data": {
      "text/plain": [
       "False"
      ]
     },
     "execution_count": 19,
     "metadata": {},
     "output_type": "execute_result"
    }
   ],
   "source": [
    "df['Economy'].is_unique"
   ]
  },
  {
   "cell_type": "code",
   "execution_count": 20,
   "metadata": {},
   "outputs": [
    {
     "data": {
      "text/plain": [
       "Year                                                                              1950\n",
       "Economy                                                                            275\n",
       "Economy Label                                                       State of Palestine\n",
       "Absolute value in thousands                                                    944.807\n",
       "Absolute value in thousands Missing value                                            0\n",
       "Urban population as percentage of total population                            37.29998\n",
       "Urban population as percentage of total population Missing value              62.70002\n",
       "Name: 206, dtype: object"
      ]
     },
     "execution_count": 20,
     "metadata": {},
     "output_type": "execute_result"
    }
   ],
   "source": [
    "#data value at specific index\n",
    "df.loc[206]"
   ]
  },
  {
   "cell_type": "code",
   "execution_count": 21,
   "metadata": {},
   "outputs": [
    {
     "data": {
      "text/plain": [
       "1905     4530.885\n",
       "1906     2544.258\n",
       "1907      197.459\n",
       "1908     5051.841\n",
       "1909     4753.921\n",
       "1910    16167.047\n",
       "1911        8.204\n",
       "1912     1570.453\n",
       "1913     2807.901\n",
       "1914     7480.649\n",
       "Name: Absolute value in thousands, dtype: object"
      ]
     },
     "execution_count": 21,
     "metadata": {},
     "output_type": "execute_result"
    }
   ],
   "source": [
    "df.loc[1905:, 'Absolute value in thousands'].head(10)"
   ]
  },
  {
   "cell_type": "code",
   "execution_count": 22,
   "metadata": {},
   "outputs": [
    {
     "data": {
      "text/plain": [
       "0.0"
      ]
     },
     "execution_count": 22,
     "metadata": {},
     "output_type": "execute_result"
    }
   ],
   "source": [
    "#null data and its percentage\n",
    "df['Absolute value in thousands Missing value'].isnull().sum() / len(df)"
   ]
  },
  {
   "cell_type": "code",
   "execution_count": 23,
   "metadata": {},
   "outputs": [
    {
     "data": {
      "text/html": [
       "<div>\n",
       "<style scoped>\n",
       "    .dataframe tbody tr th:only-of-type {\n",
       "        vertical-align: middle;\n",
       "    }\n",
       "\n",
       "    .dataframe tbody tr th {\n",
       "        vertical-align: top;\n",
       "    }\n",
       "\n",
       "    .dataframe thead th {\n",
       "        text-align: right;\n",
       "    }\n",
       "</style>\n",
       "<table border=\"1\" class=\"dataframe\">\n",
       "  <thead>\n",
       "    <tr style=\"text-align: right;\">\n",
       "      <th></th>\n",
       "      <th>Year</th>\n",
       "      <th>Economy</th>\n",
       "      <th>Economy Label</th>\n",
       "      <th>Absolute value in thousands</th>\n",
       "      <th>Absolute value in thousands Missing value</th>\n",
       "      <th>Urban population as percentage of total population</th>\n",
       "      <th>Urban population as percentage of total population Missing value</th>\n",
       "    </tr>\n",
       "  </thead>\n",
       "  <tbody>\n",
       "    <tr>\n",
       "      <th>0</th>\n",
       "      <td>1950</td>\n",
       "      <td>1</td>\n",
       "      <td>Individual economies</td>\n",
       "      <td>NOT APPLICABLE</td>\n",
       "      <td>NOT APPLICABLE</td>\n",
       "      <td>NOT APPLICABLE</td>\n",
       "      <td>NOT APPLICABLE</td>\n",
       "    </tr>\n",
       "    <tr>\n",
       "      <th>1</th>\n",
       "      <td>1950</td>\n",
       "      <td>4</td>\n",
       "      <td>Afghanistan</td>\n",
       "      <td>7480.461</td>\n",
       "      <td>0</td>\n",
       "      <td>6</td>\n",
       "      <td>94</td>\n",
       "    </tr>\n",
       "    <tr>\n",
       "      <th>2</th>\n",
       "      <td>1950</td>\n",
       "      <td>8</td>\n",
       "      <td>Albania</td>\n",
       "      <td>1252.582</td>\n",
       "      <td>0</td>\n",
       "      <td>20.52805</td>\n",
       "      <td>79.47195</td>\n",
       "    </tr>\n",
       "    <tr>\n",
       "      <th>3</th>\n",
       "      <td>1950</td>\n",
       "      <td>12</td>\n",
       "      <td>Algeria</td>\n",
       "      <td>9019.866</td>\n",
       "      <td>0</td>\n",
       "      <td>22.2132</td>\n",
       "      <td>77.7868</td>\n",
       "    </tr>\n",
       "    <tr>\n",
       "      <th>4</th>\n",
       "      <td>1950</td>\n",
       "      <td>16</td>\n",
       "      <td>American Samoa</td>\n",
       "      <td>19.032</td>\n",
       "      <td>0</td>\n",
       "      <td>61.76874</td>\n",
       "      <td>38.23126</td>\n",
       "    </tr>\n",
       "  </tbody>\n",
       "</table>\n",
       "</div>"
      ],
      "text/plain": [
       "   Year  Economy         Economy Label Absolute value in thousands  \\\n",
       "0  1950        1  Individual economies              NOT APPLICABLE   \n",
       "1  1950        4           Afghanistan                    7480.461   \n",
       "2  1950        8               Albania                    1252.582   \n",
       "3  1950       12               Algeria                    9019.866   \n",
       "4  1950       16        American Samoa                      19.032   \n",
       "\n",
       "  Absolute value in thousands Missing value  \\\n",
       "0                            NOT APPLICABLE   \n",
       "1                                         0   \n",
       "2                                         0   \n",
       "3                                         0   \n",
       "4                                         0   \n",
       "\n",
       "  Urban population as percentage of total population  \\\n",
       "0                                     NOT APPLICABLE   \n",
       "1                                                  6   \n",
       "2                                           20.52805   \n",
       "3                                            22.2132   \n",
       "4                                           61.76874   \n",
       "\n",
       "  Urban population as percentage of total population Missing value  \n",
       "0                                     NOT APPLICABLE                \n",
       "1                                                 94                \n",
       "2                                           79.47195                \n",
       "3                                            77.7868                \n",
       "4                                           38.23126                "
      ]
     },
     "execution_count": 23,
     "metadata": {},
     "output_type": "execute_result"
    }
   ],
   "source": [
    "df.head()"
   ]
  },
  {
   "cell_type": "code",
   "execution_count": 24,
   "metadata": {},
   "outputs": [
    {
     "data": {
      "text/plain": [
       "0.0"
      ]
     },
     "execution_count": 24,
     "metadata": {},
     "output_type": "execute_result"
    }
   ],
   "source": [
    "df['Absolute value in thousands Missing value'].isnull().sum() / len(df)"
   ]
  },
  {
   "cell_type": "code",
   "execution_count": 25,
   "metadata": {},
   "outputs": [
    {
     "data": {
      "text/plain": [
       "0.0"
      ]
     },
     "execution_count": 25,
     "metadata": {},
     "output_type": "execute_result"
    }
   ],
   "source": [
    "#null values\n",
    "df['Absolute value in thousands Missing value'].isna().sum() / len(df)"
   ]
  },
  {
   "cell_type": "code",
   "execution_count": 26,
   "metadata": {},
   "outputs": [
    {
     "data": {
      "text/plain": [
       "0.0"
      ]
     },
     "execution_count": 26,
     "metadata": {},
     "output_type": "execute_result"
    }
   ],
   "source": [
    "df['Urban population as percentage of total population'].isna().sum() / len(df)"
   ]
  }
 ],
 "metadata": {
  "kernelspec": {
   "display_name": "base",
   "language": "python",
   "name": "python3"
  },
  "language_info": {
   "codemirror_mode": {
    "name": "ipython",
    "version": 3
   },
   "file_extension": ".py",
   "mimetype": "text/x-python",
   "name": "python",
   "nbconvert_exporter": "python",
   "pygments_lexer": "ipython3",
   "version": "3.12.1"
  }
 },
 "nbformat": 4,
 "nbformat_minor": 2
}
